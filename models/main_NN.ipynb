{
 "cells": [
  {
   "cell_type": "code",
   "execution_count": 9,
   "metadata": {},
   "outputs": [
    {
     "name": "stderr",
     "output_type": "stream",
     "text": [
      "c:\\Users\\dell\\miniconda3\\envs\\tf_cpu\\Lib\\site-packages\\h5py\\__init__.py:36: UserWarning: h5py is running against HDF5 1.12.2 when it was built against 1.12.1, this may cause problems\n",
      "  _warn((\"h5py is running against HDF5 {0} when it was built against {1}, \"\n"
     ]
    },
    {
     "name": "stdout",
     "output_type": "stream",
     "text": [
      "WARNING:tensorflow:From c:\\Users\\dell\\miniconda3\\envs\\tf_cpu\\Lib\\site-packages\\keras\\src\\losses.py:2976: The name tf.losses.sparse_softmax_cross_entropy is deprecated. Please use tf.compat.v1.losses.sparse_softmax_cross_entropy instead.\n",
      "\n"
     ]
    }
   ],
   "source": [
    "import numpy as np\n",
    "import numpy.ma as ma\n",
    "import pandas as pd\n",
    "import tensorflow as tf\n",
    "from tensorflow import keras\n",
    "from tensorflow.keras import layers\n",
    "from sklearn.preprocessing import StandardScaler, MinMaxScaler\n",
    "from sklearn.model_selection import train_test_split\n",
    "import matplotlib.pyplot as plt\n",
    "import pickle\n",
    "pd.set_option(\"display.precision\", 1)\n",
    "import os\n",
    "import tabulate\n",
    "from Constants import *"
   ]
  },
  {
   "cell_type": "code",
   "execution_count": 10,
   "metadata": {},
   "outputs": [
    {
     "data": {
      "text/html": [
       "<div>\n",
       "<style scoped>\n",
       "    .dataframe tbody tr th:only-of-type {\n",
       "        vertical-align: middle;\n",
       "    }\n",
       "\n",
       "    .dataframe tbody tr th {\n",
       "        vertical-align: top;\n",
       "    }\n",
       "\n",
       "    .dataframe thead th {\n",
       "        text-align: right;\n",
       "    }\n",
       "</style>\n",
       "<table border=\"1\" class=\"dataframe\">\n",
       "  <thead>\n",
       "    <tr style=\"text-align: right;\">\n",
       "      <th></th>\n",
       "      <th>movie id</th>\n",
       "      <th>num ratings</th>\n",
       "      <th>ave rating</th>\n",
       "      <th>title</th>\n",
       "      <th>genres</th>\n",
       "    </tr>\n",
       "  </thead>\n",
       "  <tbody>\n",
       "    <tr>\n",
       "      <th>0</th>\n",
       "      <td>4993</td>\n",
       "      <td>198</td>\n",
       "      <td>4.1</td>\n",
       "      <td>Lord of the Rings: The Fellowship of the Ring,...</td>\n",
       "      <td>Adventure|Fantasy</td>\n",
       "    </tr>\n",
       "    <tr>\n",
       "      <th>1</th>\n",
       "      <td>5952</td>\n",
       "      <td>188</td>\n",
       "      <td>4.0</td>\n",
       "      <td>Lord of the Rings: The Two Towers, The</td>\n",
       "      <td>Adventure|Fantasy</td>\n",
       "    </tr>\n",
       "    <tr>\n",
       "      <th>2</th>\n",
       "      <td>7153</td>\n",
       "      <td>185</td>\n",
       "      <td>4.1</td>\n",
       "      <td>Lord of the Rings: The Return of the King, The</td>\n",
       "      <td>Action|Adventure|Drama|Fantasy</td>\n",
       "    </tr>\n",
       "    <tr>\n",
       "      <th>3</th>\n",
       "      <td>4306</td>\n",
       "      <td>170</td>\n",
       "      <td>3.9</td>\n",
       "      <td>Shrek</td>\n",
       "      <td>Adventure|Animation|Children|Comedy|Fantasy|Ro...</td>\n",
       "    </tr>\n",
       "    <tr>\n",
       "      <th>4</th>\n",
       "      <td>58559</td>\n",
       "      <td>149</td>\n",
       "      <td>4.2</td>\n",
       "      <td>Dark Knight, The</td>\n",
       "      <td>Action|Crime|Drama</td>\n",
       "    </tr>\n",
       "    <tr>\n",
       "      <th>5</th>\n",
       "      <td>6539</td>\n",
       "      <td>149</td>\n",
       "      <td>3.8</td>\n",
       "      <td>Pirates of the Caribbean: The Curse of the Bla...</td>\n",
       "      <td>Action|Adventure|Comedy|Fantasy</td>\n",
       "    </tr>\n",
       "    <tr>\n",
       "      <th>6</th>\n",
       "      <td>79132</td>\n",
       "      <td>143</td>\n",
       "      <td>4.1</td>\n",
       "      <td>Inception</td>\n",
       "      <td>Action|Crime|Drama|Mystery|Sci-Fi|Thriller</td>\n",
       "    </tr>\n",
       "    <tr>\n",
       "      <th>7</th>\n",
       "      <td>6377</td>\n",
       "      <td>141</td>\n",
       "      <td>4.0</td>\n",
       "      <td>Finding Nemo</td>\n",
       "      <td>Adventure|Animation|Children|Comedy</td>\n",
       "    </tr>\n",
       "    <tr>\n",
       "      <th>8</th>\n",
       "      <td>4886</td>\n",
       "      <td>132</td>\n",
       "      <td>3.9</td>\n",
       "      <td>Monsters, Inc.</td>\n",
       "      <td>Adventure|Animation|Children|Comedy|Fantasy</td>\n",
       "    </tr>\n",
       "    <tr>\n",
       "      <th>9</th>\n",
       "      <td>7361</td>\n",
       "      <td>131</td>\n",
       "      <td>4.2</td>\n",
       "      <td>Eternal Sunshine of the Spotless Mind</td>\n",
       "      <td>Drama|Romance|Sci-Fi</td>\n",
       "    </tr>\n",
       "  </tbody>\n",
       "</table>\n",
       "</div>"
      ],
      "text/plain": [
       "   movie id  num ratings  ave rating   \n",
       "0      4993          198         4.1  \\\n",
       "1      5952          188         4.0   \n",
       "2      7153          185         4.1   \n",
       "3      4306          170         3.9   \n",
       "4     58559          149         4.2   \n",
       "5      6539          149         3.8   \n",
       "6     79132          143         4.1   \n",
       "7      6377          141         4.0   \n",
       "8      4886          132         3.9   \n",
       "9      7361          131         4.2   \n",
       "\n",
       "                                               title   \n",
       "0  Lord of the Rings: The Fellowship of the Ring,...  \\\n",
       "1             Lord of the Rings: The Two Towers, The   \n",
       "2     Lord of the Rings: The Return of the King, The   \n",
       "3                                              Shrek   \n",
       "4                                   Dark Knight, The   \n",
       "5  Pirates of the Caribbean: The Curse of the Bla...   \n",
       "6                                          Inception   \n",
       "7                                       Finding Nemo   \n",
       "8                                     Monsters, Inc.   \n",
       "9              Eternal Sunshine of the Spotless Mind   \n",
       "\n",
       "                                              genres  \n",
       "0                                  Adventure|Fantasy  \n",
       "1                                  Adventure|Fantasy  \n",
       "2                     Action|Adventure|Drama|Fantasy  \n",
       "3  Adventure|Animation|Children|Comedy|Fantasy|Ro...  \n",
       "4                                 Action|Crime|Drama  \n",
       "5                    Action|Adventure|Comedy|Fantasy  \n",
       "6         Action|Crime|Drama|Mystery|Sci-Fi|Thriller  \n",
       "7                Adventure|Animation|Children|Comedy  \n",
       "8        Adventure|Animation|Children|Comedy|Fantasy  \n",
       "9                               Drama|Romance|Sci-Fi  "
      ]
     },
     "execution_count": 10,
     "metadata": {},
     "output_type": "execute_result"
    }
   ],
   "source": [
    "# Showing top rated movies and top genres\n",
    "\n",
    "top_rated"
   ]
  },
  {
   "cell_type": "code",
   "execution_count": 11,
   "metadata": {},
   "outputs": [
    {
     "data": {
      "text/html": [
       "<div>\n",
       "<style scoped>\n",
       "    .dataframe tbody tr th:only-of-type {\n",
       "        vertical-align: middle;\n",
       "    }\n",
       "\n",
       "    .dataframe tbody tr th {\n",
       "        vertical-align: top;\n",
       "    }\n",
       "\n",
       "    .dataframe thead th {\n",
       "        text-align: right;\n",
       "    }\n",
       "</style>\n",
       "<table border=\"1\" class=\"dataframe\">\n",
       "  <thead>\n",
       "    <tr style=\"text-align: right;\">\n",
       "      <th></th>\n",
       "      <th>genre</th>\n",
       "      <th>num movies</th>\n",
       "      <th>ave rating/genre</th>\n",
       "      <th>ratings per genre</th>\n",
       "    </tr>\n",
       "  </thead>\n",
       "  <tbody>\n",
       "    <tr>\n",
       "      <th>0</th>\n",
       "      <td>Action</td>\n",
       "      <td>321</td>\n",
       "      <td>3.4</td>\n",
       "      <td>10377</td>\n",
       "    </tr>\n",
       "    <tr>\n",
       "      <th>1</th>\n",
       "      <td>Adventure</td>\n",
       "      <td>234</td>\n",
       "      <td>3.4</td>\n",
       "      <td>8785</td>\n",
       "    </tr>\n",
       "    <tr>\n",
       "      <th>2</th>\n",
       "      <td>Animation</td>\n",
       "      <td>76</td>\n",
       "      <td>3.6</td>\n",
       "      <td>2588</td>\n",
       "    </tr>\n",
       "    <tr>\n",
       "      <th>3</th>\n",
       "      <td>Children</td>\n",
       "      <td>69</td>\n",
       "      <td>3.4</td>\n",
       "      <td>2472</td>\n",
       "    </tr>\n",
       "    <tr>\n",
       "      <th>4</th>\n",
       "      <td>Comedy</td>\n",
       "      <td>326</td>\n",
       "      <td>3.4</td>\n",
       "      <td>8911</td>\n",
       "    </tr>\n",
       "    <tr>\n",
       "      <th>5</th>\n",
       "      <td>Crime</td>\n",
       "      <td>139</td>\n",
       "      <td>3.5</td>\n",
       "      <td>4671</td>\n",
       "    </tr>\n",
       "    <tr>\n",
       "      <th>6</th>\n",
       "      <td>Documentary</td>\n",
       "      <td>13</td>\n",
       "      <td>3.8</td>\n",
       "      <td>280</td>\n",
       "    </tr>\n",
       "    <tr>\n",
       "      <th>7</th>\n",
       "      <td>Drama</td>\n",
       "      <td>342</td>\n",
       "      <td>3.6</td>\n",
       "      <td>10201</td>\n",
       "    </tr>\n",
       "    <tr>\n",
       "      <th>8</th>\n",
       "      <td>Fantasy</td>\n",
       "      <td>124</td>\n",
       "      <td>3.4</td>\n",
       "      <td>4468</td>\n",
       "    </tr>\n",
       "    <tr>\n",
       "      <th>9</th>\n",
       "      <td>Horror</td>\n",
       "      <td>56</td>\n",
       "      <td>3.2</td>\n",
       "      <td>1345</td>\n",
       "    </tr>\n",
       "    <tr>\n",
       "      <th>10</th>\n",
       "      <td>Mystery</td>\n",
       "      <td>68</td>\n",
       "      <td>3.6</td>\n",
       "      <td>2497</td>\n",
       "    </tr>\n",
       "    <tr>\n",
       "      <th>11</th>\n",
       "      <td>Romance</td>\n",
       "      <td>151</td>\n",
       "      <td>3.4</td>\n",
       "      <td>4468</td>\n",
       "    </tr>\n",
       "    <tr>\n",
       "      <th>12</th>\n",
       "      <td>Sci-Fi</td>\n",
       "      <td>174</td>\n",
       "      <td>3.4</td>\n",
       "      <td>5894</td>\n",
       "    </tr>\n",
       "    <tr>\n",
       "      <th>13</th>\n",
       "      <td>Thriller</td>\n",
       "      <td>245</td>\n",
       "      <td>3.4</td>\n",
       "      <td>7659</td>\n",
       "    </tr>\n",
       "  </tbody>\n",
       "</table>\n",
       "</div>"
      ],
      "text/plain": [
       "          genre  num movies  ave rating/genre  ratings per genre\n",
       "0        Action         321               3.4              10377\n",
       "1     Adventure         234               3.4               8785\n",
       "2     Animation          76               3.6               2588\n",
       "3      Children          69               3.4               2472\n",
       "4        Comedy         326               3.4               8911\n",
       "5         Crime         139               3.5               4671\n",
       "6   Documentary          13               3.8                280\n",
       "7         Drama         342               3.6              10201\n",
       "8       Fantasy         124               3.4               4468\n",
       "9        Horror          56               3.2               1345\n",
       "10      Mystery          68               3.6               2497\n",
       "11      Romance         151               3.4               4468\n",
       "12       Sci-Fi         174               3.4               5894\n",
       "13     Thriller         245               3.4               7659"
      ]
     },
     "execution_count": 11,
     "metadata": {},
     "output_type": "execute_result"
    }
   ],
   "source": [
    "top_genres"
   ]
  },
  {
   "cell_type": "code",
   "execution_count": 12,
   "metadata": {},
   "outputs": [
    {
     "name": "stdout",
     "output_type": "stream",
     "text": [
      "Training vectors, item: 50884\n",
      "Training vectors, user: 50884\n"
     ]
    }
   ],
   "source": [
    "# Load data\n",
    "train_item, train_user, y_train, item_features, user_features, item_vecs, movie_dict, user_to_genre = load_data()\n",
    "\n",
    "# Remove userid, rating count, ave rating and movie id during training\n",
    "user_features_num = train_user.shape[1] - 3\n",
    "item_features_num = train_item.shape[1] - 1\n",
    "\n",
    "# Define user and item genre vectors\n",
    "u_vecs = 3\n",
    "i_vecs = 3\n",
    "\n",
    "# User and item columns to use in training\n",
    "u_startcols = 3\n",
    "i_startcols = 1\n",
    "\n",
    "print(f\"Training vectors, item: {len(train_item)}\")\n",
    "print(f\"Training vectors, user: {len(train_user)}\")"
   ]
  },
  {
   "cell_type": "code",
   "execution_count": 13,
   "metadata": {},
   "outputs": [
    {
     "data": {
      "text/html": [
       "<table>\n",
       "<thead>\n",
       "<tr><th style=\"text-align: center;\"> [user id] </th><th style=\"text-align: center;\"> [rating count] </th><th style=\"text-align: center;\"> [rating ave] </th><th style=\"text-align: center;\"> Act ion </th><th style=\"text-align: center;\"> Adve nture </th><th style=\"text-align: center;\"> Anim ation </th><th style=\"text-align: center;\"> Chil dren </th><th style=\"text-align: center;\"> Com edy </th><th style=\"text-align: center;\"> Crime </th><th style=\"text-align: center;\"> Docum entary </th><th style=\"text-align: center;\"> Drama </th><th style=\"text-align: center;\"> Fan tasy </th><th style=\"text-align: center;\"> Hor ror </th><th style=\"text-align: center;\"> Mys tery </th><th style=\"text-align: center;\"> Rom ance </th><th style=\"text-align: center;\"> Sci -Fi </th><th style=\"text-align: center;\"> Thri ller </th></tr>\n",
       "</thead>\n",
       "<tbody>\n",
       "<tr><td style=\"text-align: center;\">     2     </td><td style=\"text-align: center;\">       22       </td><td style=\"text-align: center;\">     4.0      </td><td style=\"text-align: center;\">   4.0   </td><td style=\"text-align: center;\">    4.2     </td><td style=\"text-align: center;\">    0.0     </td><td style=\"text-align: center;\">    0.0    </td><td style=\"text-align: center;\">   4.0   </td><td style=\"text-align: center;\">  4.1  </td><td style=\"text-align: center;\">     4.0      </td><td style=\"text-align: center;\">  4.0  </td><td style=\"text-align: center;\">   0.0    </td><td style=\"text-align: center;\">   3.0   </td><td style=\"text-align: center;\">   4.0    </td><td style=\"text-align: center;\">   0.0    </td><td style=\"text-align: center;\">   3.9   </td><td style=\"text-align: center;\">    3.9    </td></tr>\n",
       "<tr><td style=\"text-align: center;\">     2     </td><td style=\"text-align: center;\">       22       </td><td style=\"text-align: center;\">     4.0      </td><td style=\"text-align: center;\">   4.0   </td><td style=\"text-align: center;\">    4.2     </td><td style=\"text-align: center;\">    0.0     </td><td style=\"text-align: center;\">    0.0    </td><td style=\"text-align: center;\">   4.0   </td><td style=\"text-align: center;\">  4.1  </td><td style=\"text-align: center;\">     4.0      </td><td style=\"text-align: center;\">  4.0  </td><td style=\"text-align: center;\">   0.0    </td><td style=\"text-align: center;\">   3.0   </td><td style=\"text-align: center;\">   4.0    </td><td style=\"text-align: center;\">   0.0    </td><td style=\"text-align: center;\">   3.9   </td><td style=\"text-align: center;\">    3.9    </td></tr>\n",
       "<tr><td style=\"text-align: center;\">     2     </td><td style=\"text-align: center;\">       22       </td><td style=\"text-align: center;\">     4.0      </td><td style=\"text-align: center;\">   4.0   </td><td style=\"text-align: center;\">    4.2     </td><td style=\"text-align: center;\">    0.0     </td><td style=\"text-align: center;\">    0.0    </td><td style=\"text-align: center;\">   4.0   </td><td style=\"text-align: center;\">  4.1  </td><td style=\"text-align: center;\">     4.0      </td><td style=\"text-align: center;\">  4.0  </td><td style=\"text-align: center;\">   0.0    </td><td style=\"text-align: center;\">   3.0   </td><td style=\"text-align: center;\">   4.0    </td><td style=\"text-align: center;\">   0.0    </td><td style=\"text-align: center;\">   3.9   </td><td style=\"text-align: center;\">    3.9    </td></tr>\n",
       "<tr><td style=\"text-align: center;\">     2     </td><td style=\"text-align: center;\">       22       </td><td style=\"text-align: center;\">     4.0      </td><td style=\"text-align: center;\">   4.0   </td><td style=\"text-align: center;\">    4.2     </td><td style=\"text-align: center;\">    0.0     </td><td style=\"text-align: center;\">    0.0    </td><td style=\"text-align: center;\">   4.0   </td><td style=\"text-align: center;\">  4.1  </td><td style=\"text-align: center;\">     4.0      </td><td style=\"text-align: center;\">  4.0  </td><td style=\"text-align: center;\">   0.0    </td><td style=\"text-align: center;\">   3.0   </td><td style=\"text-align: center;\">   4.0    </td><td style=\"text-align: center;\">   0.0    </td><td style=\"text-align: center;\">   3.9   </td><td style=\"text-align: center;\">    3.9    </td></tr>\n",
       "<tr><td style=\"text-align: center;\">     2     </td><td style=\"text-align: center;\">       22       </td><td style=\"text-align: center;\">     4.0      </td><td style=\"text-align: center;\">   4.0   </td><td style=\"text-align: center;\">    4.2     </td><td style=\"text-align: center;\">    0.0     </td><td style=\"text-align: center;\">    0.0    </td><td style=\"text-align: center;\">   4.0   </td><td style=\"text-align: center;\">  4.1  </td><td style=\"text-align: center;\">     4.0      </td><td style=\"text-align: center;\">  4.0  </td><td style=\"text-align: center;\">   0.0    </td><td style=\"text-align: center;\">   3.0   </td><td style=\"text-align: center;\">   4.0    </td><td style=\"text-align: center;\">   0.0    </td><td style=\"text-align: center;\">   3.9   </td><td style=\"text-align: center;\">    3.9    </td></tr>\n",
       "</tbody>\n",
       "</table>"
      ],
      "text/plain": [
       "'<table>\\n<thead>\\n<tr><th style=\"text-align: center;\"> [user id] </th><th style=\"text-align: center;\"> [rating count] </th><th style=\"text-align: center;\"> [rating ave] </th><th style=\"text-align: center;\"> Act ion </th><th style=\"text-align: center;\"> Adve nture </th><th style=\"text-align: center;\"> Anim ation </th><th style=\"text-align: center;\"> Chil dren </th><th style=\"text-align: center;\"> Com edy </th><th style=\"text-align: center;\"> Crime </th><th style=\"text-align: center;\"> Docum entary </th><th style=\"text-align: center;\"> Drama </th><th style=\"text-align: center;\"> Fan tasy </th><th style=\"text-align: center;\"> Hor ror </th><th style=\"text-align: center;\"> Mys tery </th><th style=\"text-align: center;\"> Rom ance </th><th style=\"text-align: center;\"> Sci -Fi </th><th style=\"text-align: center;\"> Thri ller </th></tr>\\n</thead>\\n<tbody>\\n<tr><td style=\"text-align: center;\">     2     </td><td style=\"text-align: center;\">       22       </td><td style=\"text-align: center;\">     4.0      </td><td style=\"text-align: center;\">   4.0   </td><td style=\"text-align: center;\">    4.2     </td><td style=\"text-align: center;\">    0.0     </td><td style=\"text-align: center;\">    0.0    </td><td style=\"text-align: center;\">   4.0   </td><td style=\"text-align: center;\">  4.1  </td><td style=\"text-align: center;\">     4.0      </td><td style=\"text-align: center;\">  4.0  </td><td style=\"text-align: center;\">   0.0    </td><td style=\"text-align: center;\">   3.0   </td><td style=\"text-align: center;\">   4.0    </td><td style=\"text-align: center;\">   0.0    </td><td style=\"text-align: center;\">   3.9   </td><td style=\"text-align: center;\">    3.9    </td></tr>\\n<tr><td style=\"text-align: center;\">     2     </td><td style=\"text-align: center;\">       22       </td><td style=\"text-align: center;\">     4.0      </td><td style=\"text-align: center;\">   4.0   </td><td style=\"text-align: center;\">    4.2     </td><td style=\"text-align: center;\">    0.0     </td><td style=\"text-align: center;\">    0.0    </td><td style=\"text-align: center;\">   4.0   </td><td style=\"text-align: center;\">  4.1  </td><td style=\"text-align: center;\">     4.0      </td><td style=\"text-align: center;\">  4.0  </td><td style=\"text-align: center;\">   0.0    </td><td style=\"text-align: center;\">   3.0   </td><td style=\"text-align: center;\">   4.0    </td><td style=\"text-align: center;\">   0.0    </td><td style=\"text-align: center;\">   3.9   </td><td style=\"text-align: center;\">    3.9    </td></tr>\\n<tr><td style=\"text-align: center;\">     2     </td><td style=\"text-align: center;\">       22       </td><td style=\"text-align: center;\">     4.0      </td><td style=\"text-align: center;\">   4.0   </td><td style=\"text-align: center;\">    4.2     </td><td style=\"text-align: center;\">    0.0     </td><td style=\"text-align: center;\">    0.0    </td><td style=\"text-align: center;\">   4.0   </td><td style=\"text-align: center;\">  4.1  </td><td style=\"text-align: center;\">     4.0      </td><td style=\"text-align: center;\">  4.0  </td><td style=\"text-align: center;\">   0.0    </td><td style=\"text-align: center;\">   3.0   </td><td style=\"text-align: center;\">   4.0    </td><td style=\"text-align: center;\">   0.0    </td><td style=\"text-align: center;\">   3.9   </td><td style=\"text-align: center;\">    3.9    </td></tr>\\n<tr><td style=\"text-align: center;\">     2     </td><td style=\"text-align: center;\">       22       </td><td style=\"text-align: center;\">     4.0      </td><td style=\"text-align: center;\">   4.0   </td><td style=\"text-align: center;\">    4.2     </td><td style=\"text-align: center;\">    0.0     </td><td style=\"text-align: center;\">    0.0    </td><td style=\"text-align: center;\">   4.0   </td><td style=\"text-align: center;\">  4.1  </td><td style=\"text-align: center;\">     4.0      </td><td style=\"text-align: center;\">  4.0  </td><td style=\"text-align: center;\">   0.0    </td><td style=\"text-align: center;\">   3.0   </td><td style=\"text-align: center;\">   4.0    </td><td style=\"text-align: center;\">   0.0    </td><td style=\"text-align: center;\">   3.9   </td><td style=\"text-align: center;\">    3.9    </td></tr>\\n<tr><td style=\"text-align: center;\">     2     </td><td style=\"text-align: center;\">       22       </td><td style=\"text-align: center;\">     4.0      </td><td style=\"text-align: center;\">   4.0   </td><td style=\"text-align: center;\">    4.2     </td><td style=\"text-align: center;\">    0.0     </td><td style=\"text-align: center;\">    0.0    </td><td style=\"text-align: center;\">   4.0   </td><td style=\"text-align: center;\">  4.1  </td><td style=\"text-align: center;\">     4.0      </td><td style=\"text-align: center;\">  4.0  </td><td style=\"text-align: center;\">   0.0    </td><td style=\"text-align: center;\">   3.0   </td><td style=\"text-align: center;\">   4.0    </td><td style=\"text-align: center;\">   0.0    </td><td style=\"text-align: center;\">   3.9   </td><td style=\"text-align: center;\">    3.9    </td></tr>\\n</tbody>\\n</table>'"
      ]
     },
     "execution_count": 13,
     "metadata": {},
     "output_type": "execute_result"
    }
   ],
   "source": [
    "# Viewing entries in user training array\n",
    "\n",
    "pprint_train(train_user, user_features, u_vecs, u_startcols, maxcount = 5)"
   ]
  },
  {
   "cell_type": "code",
   "execution_count": 14,
   "metadata": {},
   "outputs": [
    {
     "data": {
      "text/html": [
       "<table>\n",
       "<thead>\n",
       "<tr><th style=\"text-align: center;\"> [movie id] </th><th style=\"text-align: center;\"> year </th><th style=\"text-align: center;\"> ave rating </th><th style=\"text-align: center;\"> Act ion </th><th style=\"text-align: center;\"> Adve nture </th><th style=\"text-align: center;\"> Anim ation </th><th style=\"text-align: center;\"> Chil dren </th><th style=\"text-align: center;\"> Com edy </th><th style=\"text-align: center;\"> Crime </th><th style=\"text-align: center;\"> Docum entary </th><th style=\"text-align: center;\"> Drama </th><th style=\"text-align: center;\"> Fan tasy </th><th style=\"text-align: center;\"> Hor ror </th><th style=\"text-align: center;\"> Mys tery </th><th style=\"text-align: center;\"> Rom ance </th><th style=\"text-align: center;\"> Sci -Fi </th><th style=\"text-align: center;\"> Thri ller </th></tr>\n",
       "</thead>\n",
       "<tbody>\n",
       "<tr><td style=\"text-align: center;\">    6874    </td><td style=\"text-align: center;\"> 2003 </td><td style=\"text-align: center;\">    4.0     </td><td style=\"text-align: center;\">   1.0   </td><td style=\"text-align: center;\">    0.0     </td><td style=\"text-align: center;\">    0.0     </td><td style=\"text-align: center;\">    0.0    </td><td style=\"text-align: center;\">   0.0   </td><td style=\"text-align: center;\">  1.0  </td><td style=\"text-align: center;\">     0.0      </td><td style=\"text-align: center;\">  0.0  </td><td style=\"text-align: center;\">   0.0    </td><td style=\"text-align: center;\">   0.0   </td><td style=\"text-align: center;\">   0.0    </td><td style=\"text-align: center;\">   0.0    </td><td style=\"text-align: center;\">   0.0   </td><td style=\"text-align: center;\">    1.0    </td></tr>\n",
       "<tr><td style=\"text-align: center;\">    8798    </td><td style=\"text-align: center;\"> 2004 </td><td style=\"text-align: center;\">    3.8     </td><td style=\"text-align: center;\">   1.0   </td><td style=\"text-align: center;\">    0.0     </td><td style=\"text-align: center;\">    0.0     </td><td style=\"text-align: center;\">    0.0    </td><td style=\"text-align: center;\">   0.0   </td><td style=\"text-align: center;\">  1.0  </td><td style=\"text-align: center;\">     0.0      </td><td style=\"text-align: center;\">  1.0  </td><td style=\"text-align: center;\">   0.0    </td><td style=\"text-align: center;\">   0.0   </td><td style=\"text-align: center;\">   0.0    </td><td style=\"text-align: center;\">   0.0    </td><td style=\"text-align: center;\">   0.0   </td><td style=\"text-align: center;\">    1.0    </td></tr>\n",
       "<tr><td style=\"text-align: center;\">   46970    </td><td style=\"text-align: center;\"> 2006 </td><td style=\"text-align: center;\">    3.2     </td><td style=\"text-align: center;\">   1.0   </td><td style=\"text-align: center;\">    0.0     </td><td style=\"text-align: center;\">    0.0     </td><td style=\"text-align: center;\">    0.0    </td><td style=\"text-align: center;\">   1.0   </td><td style=\"text-align: center;\">  0.0  </td><td style=\"text-align: center;\">     0.0      </td><td style=\"text-align: center;\">  0.0  </td><td style=\"text-align: center;\">   0.0    </td><td style=\"text-align: center;\">   0.0   </td><td style=\"text-align: center;\">   0.0    </td><td style=\"text-align: center;\">   0.0    </td><td style=\"text-align: center;\">   0.0   </td><td style=\"text-align: center;\">    0.0    </td></tr>\n",
       "<tr><td style=\"text-align: center;\">   48516    </td><td style=\"text-align: center;\"> 2006 </td><td style=\"text-align: center;\">    4.3     </td><td style=\"text-align: center;\">   0.0   </td><td style=\"text-align: center;\">    0.0     </td><td style=\"text-align: center;\">    0.0     </td><td style=\"text-align: center;\">    0.0    </td><td style=\"text-align: center;\">   0.0   </td><td style=\"text-align: center;\">  1.0  </td><td style=\"text-align: center;\">     0.0      </td><td style=\"text-align: center;\">  1.0  </td><td style=\"text-align: center;\">   0.0    </td><td style=\"text-align: center;\">   0.0   </td><td style=\"text-align: center;\">   0.0    </td><td style=\"text-align: center;\">   0.0    </td><td style=\"text-align: center;\">   0.0   </td><td style=\"text-align: center;\">    1.0    </td></tr>\n",
       "<tr><td style=\"text-align: center;\">   58559    </td><td style=\"text-align: center;\"> 2008 </td><td style=\"text-align: center;\">    4.2     </td><td style=\"text-align: center;\">   1.0   </td><td style=\"text-align: center;\">    0.0     </td><td style=\"text-align: center;\">    0.0     </td><td style=\"text-align: center;\">    0.0    </td><td style=\"text-align: center;\">   0.0   </td><td style=\"text-align: center;\">  1.0  </td><td style=\"text-align: center;\">     0.0      </td><td style=\"text-align: center;\">  1.0  </td><td style=\"text-align: center;\">   0.0    </td><td style=\"text-align: center;\">   0.0   </td><td style=\"text-align: center;\">   0.0    </td><td style=\"text-align: center;\">   0.0    </td><td style=\"text-align: center;\">   0.0   </td><td style=\"text-align: center;\">    0.0    </td></tr>\n",
       "</tbody>\n",
       "</table>"
      ],
      "text/plain": [
       "'<table>\\n<thead>\\n<tr><th style=\"text-align: center;\"> [movie id] </th><th style=\"text-align: center;\"> year </th><th style=\"text-align: center;\"> ave rating </th><th style=\"text-align: center;\"> Act ion </th><th style=\"text-align: center;\"> Adve nture </th><th style=\"text-align: center;\"> Anim ation </th><th style=\"text-align: center;\"> Chil dren </th><th style=\"text-align: center;\"> Com edy </th><th style=\"text-align: center;\"> Crime </th><th style=\"text-align: center;\"> Docum entary </th><th style=\"text-align: center;\"> Drama </th><th style=\"text-align: center;\"> Fan tasy </th><th style=\"text-align: center;\"> Hor ror </th><th style=\"text-align: center;\"> Mys tery </th><th style=\"text-align: center;\"> Rom ance </th><th style=\"text-align: center;\"> Sci -Fi </th><th style=\"text-align: center;\"> Thri ller </th></tr>\\n</thead>\\n<tbody>\\n<tr><td style=\"text-align: center;\">    6874    </td><td style=\"text-align: center;\"> 2003 </td><td style=\"text-align: center;\">    4.0     </td><td style=\"text-align: center;\">   1.0   </td><td style=\"text-align: center;\">    0.0     </td><td style=\"text-align: center;\">    0.0     </td><td style=\"text-align: center;\">    0.0    </td><td style=\"text-align: center;\">   0.0   </td><td style=\"text-align: center;\">  1.0  </td><td style=\"text-align: center;\">     0.0      </td><td style=\"text-align: center;\">  0.0  </td><td style=\"text-align: center;\">   0.0    </td><td style=\"text-align: center;\">   0.0   </td><td style=\"text-align: center;\">   0.0    </td><td style=\"text-align: center;\">   0.0    </td><td style=\"text-align: center;\">   0.0   </td><td style=\"text-align: center;\">    1.0    </td></tr>\\n<tr><td style=\"text-align: center;\">    8798    </td><td style=\"text-align: center;\"> 2004 </td><td style=\"text-align: center;\">    3.8     </td><td style=\"text-align: center;\">   1.0   </td><td style=\"text-align: center;\">    0.0     </td><td style=\"text-align: center;\">    0.0     </td><td style=\"text-align: center;\">    0.0    </td><td style=\"text-align: center;\">   0.0   </td><td style=\"text-align: center;\">  1.0  </td><td style=\"text-align: center;\">     0.0      </td><td style=\"text-align: center;\">  1.0  </td><td style=\"text-align: center;\">   0.0    </td><td style=\"text-align: center;\">   0.0   </td><td style=\"text-align: center;\">   0.0    </td><td style=\"text-align: center;\">   0.0    </td><td style=\"text-align: center;\">   0.0   </td><td style=\"text-align: center;\">    1.0    </td></tr>\\n<tr><td style=\"text-align: center;\">   46970    </td><td style=\"text-align: center;\"> 2006 </td><td style=\"text-align: center;\">    3.2     </td><td style=\"text-align: center;\">   1.0   </td><td style=\"text-align: center;\">    0.0     </td><td style=\"text-align: center;\">    0.0     </td><td style=\"text-align: center;\">    0.0    </td><td style=\"text-align: center;\">   1.0   </td><td style=\"text-align: center;\">  0.0  </td><td style=\"text-align: center;\">     0.0      </td><td style=\"text-align: center;\">  0.0  </td><td style=\"text-align: center;\">   0.0    </td><td style=\"text-align: center;\">   0.0   </td><td style=\"text-align: center;\">   0.0    </td><td style=\"text-align: center;\">   0.0    </td><td style=\"text-align: center;\">   0.0   </td><td style=\"text-align: center;\">    0.0    </td></tr>\\n<tr><td style=\"text-align: center;\">   48516    </td><td style=\"text-align: center;\"> 2006 </td><td style=\"text-align: center;\">    4.3     </td><td style=\"text-align: center;\">   0.0   </td><td style=\"text-align: center;\">    0.0     </td><td style=\"text-align: center;\">    0.0     </td><td style=\"text-align: center;\">    0.0    </td><td style=\"text-align: center;\">   0.0   </td><td style=\"text-align: center;\">  1.0  </td><td style=\"text-align: center;\">     0.0      </td><td style=\"text-align: center;\">  1.0  </td><td style=\"text-align: center;\">   0.0    </td><td style=\"text-align: center;\">   0.0   </td><td style=\"text-align: center;\">   0.0    </td><td style=\"text-align: center;\">   0.0    </td><td style=\"text-align: center;\">   0.0   </td><td style=\"text-align: center;\">    1.0    </td></tr>\\n<tr><td style=\"text-align: center;\">   58559    </td><td style=\"text-align: center;\"> 2008 </td><td style=\"text-align: center;\">    4.2     </td><td style=\"text-align: center;\">   1.0   </td><td style=\"text-align: center;\">    0.0     </td><td style=\"text-align: center;\">    0.0     </td><td style=\"text-align: center;\">    0.0    </td><td style=\"text-align: center;\">   0.0   </td><td style=\"text-align: center;\">  1.0  </td><td style=\"text-align: center;\">     0.0      </td><td style=\"text-align: center;\">  1.0  </td><td style=\"text-align: center;\">   0.0    </td><td style=\"text-align: center;\">   0.0   </td><td style=\"text-align: center;\">   0.0    </td><td style=\"text-align: center;\">   0.0    </td><td style=\"text-align: center;\">   0.0   </td><td style=\"text-align: center;\">    0.0    </td></tr>\\n</tbody>\\n</table>'"
      ]
     },
     "execution_count": 14,
     "metadata": {},
     "output_type": "execute_result"
    }
   ],
   "source": [
    "# Viewing entries in movie training array\n",
    "\n",
    "pprint_train(train_item, item_features, i_vecs, i_startcols, maxcount = 5)"
   ]
  },
  {
   "cell_type": "code",
   "execution_count": 15,
   "metadata": {},
   "outputs": [
    {
     "name": "stdout",
     "output_type": "stream",
     "text": [
      "y_train[:5]: [4.  3.5 4.  4.  4.5]\n"
     ]
    }
   ],
   "source": [
    "# Displaying sample user rating\n",
    "\n",
    "print(f\"y_train[:5]: {y_train[:5]}\")"
   ]
  },
  {
   "cell_type": "code",
   "execution_count": 16,
   "metadata": {},
   "outputs": [
    {
     "name": "stdout",
     "output_type": "stream",
     "text": [
      "True\n",
      "True\n"
     ]
    }
   ],
   "source": [
    "# Scaling training data\n",
    "\n",
    "unscaled_item_train = train_item\n",
    "unscaled_user_train = train_user\n",
    "unscaled_y_train = y_train\n",
    "\n",
    "Itemscaler = StandardScaler()\n",
    "Itemscaler.fit(train_item)\n",
    "train_item = Itemscaler.transform(train_item)\n",
    "\n",
    "Userscaler = StandardScaler()\n",
    "Userscaler.fit(train_user)\n",
    "train_user = Userscaler.transform(train_user)\n",
    "\n",
    "Targetscaler = MinMaxScaler((-1, 1))\n",
    "Targetscaler.fit(y_train.reshape(-1, 1))\n",
    "y_train = Targetscaler.transform(y_train.reshape(-1, 1))\n",
    "\n",
    "print(np.allclose(unscaled_item_train, Itemscaler.inverse_transform(train_item)))\n",
    "print(np.allclose(unscaled_user_train, Userscaler.inverse_transform(train_user)))"
   ]
  },
  {
   "cell_type": "code",
   "execution_count": 17,
   "metadata": {},
   "outputs": [
    {
     "name": "stdout",
     "output_type": "stream",
     "text": [
      "(38163, 17)\n",
      "(12721, 17)\n",
      "(38163, 17)\n",
      "(12721, 17)\n",
      "(38163, 1)\n",
      "(12721, 1)\n"
     ]
    }
   ],
   "source": [
    "# Splitting and shuffling data for training\n",
    "\n",
    "train_item, test_item = train_test_split(train_item, train_size = 0.75, shuffle = True, random_state = 152)\n",
    "train_user, test_user = train_test_split(train_user, train_size = 0.75, shuffle = True, random_state = 152)\n",
    "y_train, y_test = train_test_split(y_train, train_size = 0.75, shuffle = True, random_state = 152)\n",
    "\n",
    "print(train_item.shape)\n",
    "print(test_item.shape)\n",
    "print(train_user.shape)\n",
    "print(test_user.shape)\n",
    "print(y_train.shape)\n",
    "print(y_test.shape)\n"
   ]
  },
  {
   "cell_type": "code",
   "execution_count": 18,
   "metadata": {},
   "outputs": [
    {
     "data": {
      "text/html": [
       "<table>\n",
       "<thead>\n",
       "<tr><th style=\"text-align: center;\"> [user id] </th><th style=\"text-align: center;\"> [rating count] </th><th style=\"text-align: center;\"> [rating ave] </th><th style=\"text-align: center;\"> Act ion </th><th style=\"text-align: center;\"> Adve nture </th><th style=\"text-align: center;\"> Anim ation </th><th style=\"text-align: center;\"> Chil dren </th><th style=\"text-align: center;\"> Com edy </th><th style=\"text-align: center;\"> Crime </th><th style=\"text-align: center;\"> Docum entary </th><th style=\"text-align: center;\"> Drama </th><th style=\"text-align: center;\"> Fan tasy </th><th style=\"text-align: center;\"> Hor ror </th><th style=\"text-align: center;\"> Mys tery </th><th style=\"text-align: center;\"> Rom ance </th><th style=\"text-align: center;\"> Sci -Fi </th><th style=\"text-align: center;\"> Thri ller </th></tr>\n",
       "</thead>\n",
       "<tbody>\n",
       "<tr><td style=\"text-align: center;\">     0     </td><td style=\"text-align: center;\">       0        </td><td style=\"text-align: center;\">     -0.8     </td><td style=\"text-align: center;\">  -1.3   </td><td style=\"text-align: center;\">    -1.3    </td><td style=\"text-align: center;\">    -0.2    </td><td style=\"text-align: center;\">   -1.4    </td><td style=\"text-align: center;\">  -0.5   </td><td style=\"text-align: center;\"> -0.9  </td><td style=\"text-align: center;\">     0.8      </td><td style=\"text-align: center;\"> -0.5  </td><td style=\"text-align: center;\">   -0.7   </td><td style=\"text-align: center;\">   1.0   </td><td style=\"text-align: center;\">   -1.3   </td><td style=\"text-align: center;\">   -0.2   </td><td style=\"text-align: center;\">  -1.0   </td><td style=\"text-align: center;\">   -1.3    </td></tr>\n",
       "<tr><td style=\"text-align: center;\">    -1     </td><td style=\"text-align: center;\">       0        </td><td style=\"text-align: center;\">     0.7      </td><td style=\"text-align: center;\">   0.6   </td><td style=\"text-align: center;\">    0.5     </td><td style=\"text-align: center;\">    0.3     </td><td style=\"text-align: center;\">    0.5    </td><td style=\"text-align: center;\">   0.4   </td><td style=\"text-align: center;\">  0.6  </td><td style=\"text-align: center;\">     1.0      </td><td style=\"text-align: center;\">  0.6  </td><td style=\"text-align: center;\">   0.3    </td><td style=\"text-align: center;\">   0.8   </td><td style=\"text-align: center;\">   0.8    </td><td style=\"text-align: center;\">   0.4    </td><td style=\"text-align: center;\">   0.7   </td><td style=\"text-align: center;\">    0.7    </td></tr>\n",
       "<tr><td style=\"text-align: center;\">     0     </td><td style=\"text-align: center;\">       -1       </td><td style=\"text-align: center;\">     1.7      </td><td style=\"text-align: center;\">  -0.4   </td><td style=\"text-align: center;\">    -0.5    </td><td style=\"text-align: center;\">    1.0     </td><td style=\"text-align: center;\">   -3.5    </td><td style=\"text-align: center;\">   2.3   </td><td style=\"text-align: center;\">  1.6  </td><td style=\"text-align: center;\">     -1.2     </td><td style=\"text-align: center;\">  1.6  </td><td style=\"text-align: center;\">   1.6    </td><td style=\"text-align: center;\">  -2.3   </td><td style=\"text-align: center;\">   -4.7   </td><td style=\"text-align: center;\">   1.6    </td><td style=\"text-align: center;\">  -2.1   </td><td style=\"text-align: center;\">    1.8    </td></tr>\n",
       "<tr><td style=\"text-align: center;\">     0     </td><td style=\"text-align: center;\">       0        </td><td style=\"text-align: center;\">     1.5      </td><td style=\"text-align: center;\">   1.5   </td><td style=\"text-align: center;\">    1.4     </td><td style=\"text-align: center;\">    1.2     </td><td style=\"text-align: center;\">    1.3    </td><td style=\"text-align: center;\">   1.5   </td><td style=\"text-align: center;\">  1.1  </td><td style=\"text-align: center;\">     -1.2     </td><td style=\"text-align: center;\">  1.2  </td><td style=\"text-align: center;\">   1.1    </td><td style=\"text-align: center;\">   1.4   </td><td style=\"text-align: center;\">   1.2    </td><td style=\"text-align: center;\">   1.2    </td><td style=\"text-align: center;\">   1.1   </td><td style=\"text-align: center;\">    1.2    </td></tr>\n",
       "<tr><td style=\"text-align: center;\">    -1     </td><td style=\"text-align: center;\">       0        </td><td style=\"text-align: center;\">     0.4      </td><td style=\"text-align: center;\">   0.4   </td><td style=\"text-align: center;\">    0.6     </td><td style=\"text-align: center;\">    0.5     </td><td style=\"text-align: center;\">    0.4    </td><td style=\"text-align: center;\">   0.5   </td><td style=\"text-align: center;\">  0.1  </td><td style=\"text-align: center;\">     1.0      </td><td style=\"text-align: center;\">  0.3  </td><td style=\"text-align: center;\">   0.6    </td><td style=\"text-align: center;\">   0.7   </td><td style=\"text-align: center;\">   0.1    </td><td style=\"text-align: center;\">   0.3    </td><td style=\"text-align: center;\">   0.2   </td><td style=\"text-align: center;\">    0.2    </td></tr>\n",
       "</tbody>\n",
       "</table>"
      ],
      "text/plain": [
       "'<table>\\n<thead>\\n<tr><th style=\"text-align: center;\"> [user id] </th><th style=\"text-align: center;\"> [rating count] </th><th style=\"text-align: center;\"> [rating ave] </th><th style=\"text-align: center;\"> Act ion </th><th style=\"text-align: center;\"> Adve nture </th><th style=\"text-align: center;\"> Anim ation </th><th style=\"text-align: center;\"> Chil dren </th><th style=\"text-align: center;\"> Com edy </th><th style=\"text-align: center;\"> Crime </th><th style=\"text-align: center;\"> Docum entary </th><th style=\"text-align: center;\"> Drama </th><th style=\"text-align: center;\"> Fan tasy </th><th style=\"text-align: center;\"> Hor ror </th><th style=\"text-align: center;\"> Mys tery </th><th style=\"text-align: center;\"> Rom ance </th><th style=\"text-align: center;\"> Sci -Fi </th><th style=\"text-align: center;\"> Thri ller </th></tr>\\n</thead>\\n<tbody>\\n<tr><td style=\"text-align: center;\">     0     </td><td style=\"text-align: center;\">       0        </td><td style=\"text-align: center;\">     -0.8     </td><td style=\"text-align: center;\">  -1.3   </td><td style=\"text-align: center;\">    -1.3    </td><td style=\"text-align: center;\">    -0.2    </td><td style=\"text-align: center;\">   -1.4    </td><td style=\"text-align: center;\">  -0.5   </td><td style=\"text-align: center;\"> -0.9  </td><td style=\"text-align: center;\">     0.8      </td><td style=\"text-align: center;\"> -0.5  </td><td style=\"text-align: center;\">   -0.7   </td><td style=\"text-align: center;\">   1.0   </td><td style=\"text-align: center;\">   -1.3   </td><td style=\"text-align: center;\">   -0.2   </td><td style=\"text-align: center;\">  -1.0   </td><td style=\"text-align: center;\">   -1.3    </td></tr>\\n<tr><td style=\"text-align: center;\">    -1     </td><td style=\"text-align: center;\">       0        </td><td style=\"text-align: center;\">     0.7      </td><td style=\"text-align: center;\">   0.6   </td><td style=\"text-align: center;\">    0.5     </td><td style=\"text-align: center;\">    0.3     </td><td style=\"text-align: center;\">    0.5    </td><td style=\"text-align: center;\">   0.4   </td><td style=\"text-align: center;\">  0.6  </td><td style=\"text-align: center;\">     1.0      </td><td style=\"text-align: center;\">  0.6  </td><td style=\"text-align: center;\">   0.3    </td><td style=\"text-align: center;\">   0.8   </td><td style=\"text-align: center;\">   0.8    </td><td style=\"text-align: center;\">   0.4    </td><td style=\"text-align: center;\">   0.7   </td><td style=\"text-align: center;\">    0.7    </td></tr>\\n<tr><td style=\"text-align: center;\">     0     </td><td style=\"text-align: center;\">       -1       </td><td style=\"text-align: center;\">     1.7      </td><td style=\"text-align: center;\">  -0.4   </td><td style=\"text-align: center;\">    -0.5    </td><td style=\"text-align: center;\">    1.0     </td><td style=\"text-align: center;\">   -3.5    </td><td style=\"text-align: center;\">   2.3   </td><td style=\"text-align: center;\">  1.6  </td><td style=\"text-align: center;\">     -1.2     </td><td style=\"text-align: center;\">  1.6  </td><td style=\"text-align: center;\">   1.6    </td><td style=\"text-align: center;\">  -2.3   </td><td style=\"text-align: center;\">   -4.7   </td><td style=\"text-align: center;\">   1.6    </td><td style=\"text-align: center;\">  -2.1   </td><td style=\"text-align: center;\">    1.8    </td></tr>\\n<tr><td style=\"text-align: center;\">     0     </td><td style=\"text-align: center;\">       0        </td><td style=\"text-align: center;\">     1.5      </td><td style=\"text-align: center;\">   1.5   </td><td style=\"text-align: center;\">    1.4     </td><td style=\"text-align: center;\">    1.2     </td><td style=\"text-align: center;\">    1.3    </td><td style=\"text-align: center;\">   1.5   </td><td style=\"text-align: center;\">  1.1  </td><td style=\"text-align: center;\">     -1.2     </td><td style=\"text-align: center;\">  1.2  </td><td style=\"text-align: center;\">   1.1    </td><td style=\"text-align: center;\">   1.4   </td><td style=\"text-align: center;\">   1.2    </td><td style=\"text-align: center;\">   1.2    </td><td style=\"text-align: center;\">   1.1   </td><td style=\"text-align: center;\">    1.2    </td></tr>\\n<tr><td style=\"text-align: center;\">    -1     </td><td style=\"text-align: center;\">       0        </td><td style=\"text-align: center;\">     0.4      </td><td style=\"text-align: center;\">   0.4   </td><td style=\"text-align: center;\">    0.6     </td><td style=\"text-align: center;\">    0.5     </td><td style=\"text-align: center;\">    0.4    </td><td style=\"text-align: center;\">   0.5   </td><td style=\"text-align: center;\">  0.1  </td><td style=\"text-align: center;\">     1.0      </td><td style=\"text-align: center;\">  0.3  </td><td style=\"text-align: center;\">   0.6    </td><td style=\"text-align: center;\">   0.7   </td><td style=\"text-align: center;\">   0.1    </td><td style=\"text-align: center;\">   0.3    </td><td style=\"text-align: center;\">   0.2   </td><td style=\"text-align: center;\">    0.2    </td></tr>\\n</tbody>\\n</table>'"
      ]
     },
     "execution_count": 18,
     "metadata": {},
     "output_type": "execute_result"
    }
   ],
   "source": [
    "# Display the scaled data\n",
    "\n",
    "pprint_train(train_user, user_features, u_vecs, u_startcols, maxcount = 5)"
   ]
  },
  {
   "cell_type": "code",
   "execution_count": 19,
   "metadata": {},
   "outputs": [
    {
     "name": "stdout",
     "output_type": "stream",
     "text": [
      "WARNING:tensorflow:From c:\\Users\\dell\\miniconda3\\envs\\tf_cpu\\Lib\\site-packages\\keras\\src\\backend.py:873: The name tf.get_default_graph is deprecated. Please use tf.compat.v1.get_default_graph instead.\n",
      "\n"
     ]
    }
   ],
   "source": [
    "num_outputs = 32\n",
    "\n",
    "# Model achitecture - User\n",
    "user_Net = keras.Sequential([\n",
    "    layers.Dense(256, activation = 'relu'),\n",
    "    layers.BatchNormalization(),\n",
    "    layers.Dropout(0.25),\n",
    "    layers.Dense(512, activation = 'relu'),\n",
    "    layers.BatchNormalization(),\n",
    "    layers.Dropout(0.25),\n",
    "    layers.Dense(256, activation = 'relu'),\n",
    "    layers.BatchNormalization(),\n",
    "    layers.Dropout(0.25),\n",
    "    layers.Dense(128, activation = 'relu'),\n",
    "    layers.BatchNormalization(),\n",
    "    layers.Dropout(0.25),\n",
    "    layers.Dense(num_outputs),\n",
    "])\n",
    "\n",
    "# Model achitecture - Item\n",
    "item_Net =  keras.Sequential([\n",
    "    layers.Dense(256, activation = 'relu'),\n",
    "    layers.BatchNormalization(),\n",
    "    layers.Dropout(0.25),\n",
    "    layers.Dense(512, activation = 'relu'),\n",
    "    layers.BatchNormalization(),\n",
    "    layers.Dropout(0.25),\n",
    "    layers.Dense(256, activation = 'relu'),\n",
    "    layers.BatchNormalization(),\n",
    "    layers.Dropout(0.25),\n",
    "    layers.Dense(128, activation = 'relu'),\n",
    "    layers.BatchNormalization(),\n",
    "    layers.Dropout(0.25),\n",
    "    layers.Dense(num_outputs),\n",
    "])"
   ]
  },
  {
   "cell_type": "code",
   "execution_count": 20,
   "metadata": {},
   "outputs": [
    {
     "name": "stdout",
     "output_type": "stream",
     "text": [
      "Model: \"model\"\n",
      "__________________________________________________________________________________________________\n",
      " Layer (type)                Output Shape                 Param #   Connected to                  \n",
      "==================================================================================================\n",
      " input_1 (InputLayer)        [(None, 14)]                 0         []                            \n",
      "                                                                                                  \n",
      " input_2 (InputLayer)        [(None, 16)]                 0         []                            \n",
      "                                                                                                  \n",
      " sequential (Sequential)     (None, 32)                   308384    ['input_1[0][0]']             \n",
      "                                                                                                  \n",
      " sequential_1 (Sequential)   (None, 32)                   308896    ['input_2[0][0]']             \n",
      "                                                                                                  \n",
      " tf.math.l2_normalize (TFOp  (None, 32)                   0         ['sequential[0][0]']          \n",
      " Lambda)                                                                                          \n",
      "                                                                                                  \n",
      " tf.math.l2_normalize_1 (TF  (None, 32)                   0         ['sequential_1[0][0]']        \n",
      " OpLambda)                                                                                        \n",
      "                                                                                                  \n",
      " dot (Dot)                   (None, 1)                    0         ['tf.math.l2_normalize[0][0]',\n",
      "                                                                     'tf.math.l2_normalize_1[0][0]\n",
      "                                                                    ']                            \n",
      "                                                                                                  \n",
      "==================================================================================================\n",
      "Total params: 617280 (2.35 MB)\n",
      "Trainable params: 612672 (2.34 MB)\n",
      "Non-trainable params: 4608 (18.00 KB)\n",
      "__________________________________________________________________________________________________\n"
     ]
    }
   ],
   "source": [
    "# Create the user input and point to the base network\n",
    "\n",
    "user_input = keras.Input(shape = (user_features_num))\n",
    "u_vec = user_Net(user_input)\n",
    "u_vec = tf.linalg.l2_normalize(u_vec, axis = 1)\n",
    "\n",
    "# Create the item input and point to the base network\n",
    "\n",
    "item_input = keras.Input(shape = (item_features_num))\n",
    "i_vec = item_Net(item_input)\n",
    "i_vec = tf.linalg.l2_normalize(i_vec, axis = 1)\n",
    "\n",
    "# Compute dot product of user and movie/item vector\n",
    "\n",
    "output = tf.keras.layers.Dot(axes = 1)([u_vec, i_vec])\n",
    "\n",
    "# Specify inputs and outputs of the model\n",
    "\n",
    "model = tf.keras.Model([user_input, item_input], output)\n",
    "\n",
    "model.summary()\n"
   ]
  },
  {
   "cell_type": "code",
   "execution_count": 21,
   "metadata": {},
   "outputs": [],
   "source": [
    "# Compile model\n",
    "\n",
    "tf.random.set_seed(1)\n",
    "model.compile(\n",
    "    optimizer = keras.optimizers.Adam(learning_rate = 0.01),\n",
    "    loss = 'mean_squared_error',\n",
    "    #metrics = ['accuracy']\n",
    ")"
   ]
  },
  {
   "cell_type": "code",
   "execution_count": 25,
   "metadata": {},
   "outputs": [
    {
     "name": "stdout",
     "output_type": "stream",
     "text": [
      "Epoch 1/30\n",
      "WARNING:tensorflow:From c:\\Users\\dell\\miniconda3\\envs\\tf_cpu\\Lib\\site-packages\\keras\\src\\utils\\tf_utils.py:492: The name tf.ragged.RaggedTensorValue is deprecated. Please use tf.compat.v1.ragged.RaggedTensorValue instead.\n",
      "\n",
      "1193/1193 - 60s - loss: 0.1326 - 60s/epoch - 50ms/step\n",
      "Epoch 2/30\n",
      "1193/1193 - 29s - loss: 0.1181 - 29s/epoch - 24ms/step\n",
      "Epoch 3/30\n",
      "1193/1193 - 27s - loss: 0.1159 - 27s/epoch - 23ms/step\n",
      "Epoch 4/30\n",
      "1193/1193 - 27s - loss: 0.1140 - 27s/epoch - 23ms/step\n",
      "Epoch 5/30\n",
      "1193/1193 - 26s - loss: 0.1125 - 26s/epoch - 22ms/step\n",
      "Epoch 6/30\n",
      "1193/1193 - 29s - loss: 0.1118 - 29s/epoch - 25ms/step\n",
      "Epoch 7/30\n",
      "1193/1193 - 28s - loss: 0.1106 - 28s/epoch - 24ms/step\n",
      "Epoch 8/30\n",
      "1193/1193 - 29s - loss: 0.1097 - 29s/epoch - 25ms/step\n",
      "Epoch 9/30\n",
      "1193/1193 - 26s - loss: 0.1086 - 26s/epoch - 22ms/step\n",
      "Epoch 10/30\n",
      "1193/1193 - 25s - loss: 0.1077 - 25s/epoch - 21ms/step\n",
      "Epoch 11/30\n",
      "1193/1193 - 25s - loss: 0.1063 - 25s/epoch - 21ms/step\n",
      "Epoch 12/30\n",
      "1193/1193 - 26s - loss: 0.1059 - 26s/epoch - 22ms/step\n",
      "Epoch 13/30\n",
      "1193/1193 - 37s - loss: 0.1053 - 37s/epoch - 31ms/step\n",
      "Epoch 14/30\n",
      "1193/1193 - 35s - loss: 0.1044 - 35s/epoch - 30ms/step\n",
      "Epoch 15/30\n",
      "1193/1193 - 33s - loss: 0.1033 - 33s/epoch - 28ms/step\n",
      "Epoch 16/30\n",
      "1193/1193 - 38s - loss: 0.1026 - 38s/epoch - 32ms/step\n",
      "Epoch 17/30\n",
      "1193/1193 - 36s - loss: 0.1020 - 36s/epoch - 30ms/step\n",
      "Epoch 18/30\n",
      "1193/1193 - 30s - loss: 0.1008 - 30s/epoch - 25ms/step\n",
      "Epoch 19/30\n",
      "1193/1193 - 34s - loss: 0.1003 - 34s/epoch - 28ms/step\n",
      "Epoch 20/30\n",
      "1193/1193 - 38s - loss: 0.1003 - 38s/epoch - 32ms/step\n",
      "Epoch 21/30\n",
      "1193/1193 - 37s - loss: 0.0991 - 37s/epoch - 31ms/step\n",
      "Epoch 22/30\n",
      "1193/1193 - 26s - loss: 0.0983 - 26s/epoch - 22ms/step\n",
      "Epoch 23/30\n",
      "1193/1193 - 26s - loss: 0.0983 - 26s/epoch - 22ms/step\n",
      "Epoch 24/30\n",
      "1193/1193 - 26s - loss: 0.0970 - 26s/epoch - 22ms/step\n",
      "Epoch 25/30\n",
      "1193/1193 - 27s - loss: 0.0978 - 27s/epoch - 23ms/step\n",
      "Epoch 26/30\n",
      "1193/1193 - 26s - loss: 0.0970 - 26s/epoch - 22ms/step\n",
      "Epoch 27/30\n",
      "1193/1193 - 26s - loss: 0.0958 - 26s/epoch - 22ms/step\n",
      "Epoch 28/30\n",
      "1193/1193 - 26s - loss: 0.0955 - 26s/epoch - 22ms/step\n",
      "Epoch 29/30\n",
      "1193/1193 - 28s - loss: 0.0957 - 28s/epoch - 24ms/step\n",
      "Epoch 30/30\n",
      "1193/1193 - 25s - loss: 0.0949 - 25s/epoch - 21ms/step\n"
     ]
    }
   ],
   "source": [
    "# Fit model\n",
    "\n",
    "history = model.fit([\n",
    "    train_user[:, u_startcols:], train_item[:, i_startcols:]\n",
    "    ],\n",
    "          y_train,\n",
    "          epochs = 30,\n",
    "          batch_size = 32,\n",
    "          verbose = 2)"
   ]
  },
  {
   "cell_type": "code",
   "execution_count": 27,
   "metadata": {},
   "outputs": [
    {
     "data": {
      "text/plain": [
       "0.09563115239143372"
      ]
     },
     "execution_count": 27,
     "metadata": {},
     "output_type": "execute_result"
    }
   ],
   "source": [
    "# Evaluate model\n",
    "model.evaluate([\n",
    "    test_user[:, u_startcols:], test_item[:, i_startcols:]],\n",
    "               y_test,\n",
    "               batch_size = 32,\n",
    "               verbose = 0)"
   ]
  },
  {
   "cell_type": "code",
   "execution_count": 28,
   "metadata": {},
   "outputs": [],
   "source": [
    "#history.history"
   ]
  },
  {
   "cell_type": "code",
   "execution_count": 29,
   "metadata": {},
   "outputs": [
    {
     "data": {
      "image/png": "[encoded data removed]",
      "text/plain": [
       "<Figure size 640x480 with 1 Axes>"
      ]
     },
     "metadata": {},
     "output_type": "display_data"
    }
   ],
   "source": [
    "loss = history.history['loss']\n",
    "\n",
    "plt.plot(loss, label = \"Training loss\")\n",
    "plt.legend(loc = 'upper right')\n",
    "plt.title(\"Training Loss\")\n",
    "plt.show()"
   ]
  },
  {
   "cell_type": "code",
   "execution_count": 38,
   "metadata": {},
   "outputs": [],
   "source": [
    "#os.exit()\n",
    "# Define new parameters for a user to make prediction\n",
    "\n",
    "new_user_id = 5000\n",
    "new_rating_ave = 0.0\n",
    "new_action = 0.0\n",
    "new_adventure = 5.0\n",
    "new_animation = 0.0\n",
    "new_childrens = 0.0\n",
    "new_comedy = 0.0\n",
    "new_crime = 0.0\n",
    "new_documentary = 0.0\n",
    "new_drama = 0.0\n",
    "new_fantasy = 5.0\n",
    "new_horror = 0.0\n",
    "new_mystery = 0.0\n",
    "new_romance = 0.0\n",
    "new_scifi = 0.0\n",
    "new_thriller = 0.0\n",
    "new_rating_count = 3\n",
    "\n",
    "user_vec = np.array([[new_user_id, new_rating_count, new_rating_ave,\n",
    "                      new_action, new_adventure, new_animation, new_childrens,\n",
    "                      new_comedy, new_crime, new_documentary,\n",
    "                      new_drama, new_fantasy, new_horror, new_mystery,\n",
    "                      new_romance, new_scifi, new_thriller]])"
   ]
  },
  {
   "cell_type": "code",
   "execution_count": 39,
   "metadata": {},
   "outputs": [
    {
     "name": "stdout",
     "output_type": "stream",
     "text": [
      "27/27 [==============================] - 2s 5ms/step\n"
     ]
    },
    {
     "data": {
      "text/html": [
       "<table>\n",
       "<thead>\n",
       "<tr><th style=\"text-align: right;\">  y_pred</th><th style=\"text-align: right;\">  movie_id</th><th style=\"text-align: right;\">  avg rating</th><th>title                                                                                         </th><th>genres                                </th></tr>\n",
       "</thead>\n",
       "<tbody>\n",
       "<tr><td style=\"text-align: right;\">     3.9</td><td style=\"text-align: right;\">    137857</td><td style=\"text-align: right;\">         3.6</td><td>The Jungle Book (2016)                                                                        </td><td>Adventure|Drama|Fantasy               </td></tr>\n",
       "<tr><td style=\"text-align: right;\">     3.9</td><td style=\"text-align: right;\">      6283</td><td style=\"text-align: right;\">         3.9</td><td>Cowboy Bebop: The Movie (Cowboy Bebop: Tengoku no Tobira) (2001)                              </td><td>Action|Animation|Sci-Fi|Thriller      </td></tr>\n",
       "<tr><td style=\"text-align: right;\">     3.8</td><td style=\"text-align: right;\">     98809</td><td style=\"text-align: right;\">         3.8</td><td>Hobbit: An Unexpected Journey, The (2012)                                                     </td><td>Adventure|Fantasy                     </td></tr>\n",
       "<tr><td style=\"text-align: right;\">     3.8</td><td style=\"text-align: right;\">      4896</td><td style=\"text-align: right;\">         3.8</td><td>Harry Potter and the Sorcerer&#x27;s Stone (a.k.a. Harry Potter and the Philosopher&#x27;s Stone) (2001)</td><td>Adventure|Children|Fantasy            </td></tr>\n",
       "<tr><td style=\"text-align: right;\">     3.8</td><td style=\"text-align: right;\">     88125</td><td style=\"text-align: right;\">         3.9</td><td>Harry Potter and the Deathly Hallows: Part 2 (2011)                                           </td><td>Action|Adventure|Drama|Fantasy|Mystery</td></tr>\n",
       "<tr><td style=\"text-align: right;\">     3.8</td><td style=\"text-align: right;\">     54001</td><td style=\"text-align: right;\">         3.9</td><td>Harry Potter and the Order of the Phoenix (2007)                                              </td><td>Adventure|Drama|Fantasy               </td></tr>\n",
       "<tr><td style=\"text-align: right;\">     3.7</td><td style=\"text-align: right;\">    106489</td><td style=\"text-align: right;\">         3.6</td><td>Hobbit: The Desolation of Smaug, The (2013)                                                   </td><td>Adventure|Fantasy                     </td></tr>\n",
       "<tr><td style=\"text-align: right;\">     3.7</td><td style=\"text-align: right;\">      8368</td><td style=\"text-align: right;\">         3.9</td><td>Harry Potter and the Prisoner of Azkaban (2004)                                               </td><td>Adventure|Fantasy                     </td></tr>\n",
       "<tr><td style=\"text-align: right;\">     3.7</td><td style=\"text-align: right;\">      5952</td><td style=\"text-align: right;\">         4  </td><td>Lord of the Rings: The Two Towers, The (2002)                                                 </td><td>Adventure|Fantasy                     </td></tr>\n",
       "<tr><td style=\"text-align: right;\">     3.7</td><td style=\"text-align: right;\">     90866</td><td style=\"text-align: right;\">         3.8</td><td>Hugo (2011)                                                                                   </td><td>Children|Drama|Mystery                </td></tr>\n",
       "</tbody>\n",
       "</table>"
      ],
      "text/plain": [
       "'<table>\\n<thead>\\n<tr><th style=\"text-align: right;\">  y_pred</th><th style=\"text-align: right;\">  movie_id</th><th style=\"text-align: right;\">  avg rating</th><th>title                                                                                         </th><th>genres                                </th></tr>\\n</thead>\\n<tbody>\\n<tr><td style=\"text-align: right;\">     3.9</td><td style=\"text-align: right;\">    137857</td><td style=\"text-align: right;\">         3.6</td><td>The Jungle Book (2016)                                                                        </td><td>Adventure|Drama|Fantasy               </td></tr>\\n<tr><td style=\"text-align: right;\">     3.9</td><td style=\"text-align: right;\">      6283</td><td style=\"text-align: right;\">         3.9</td><td>Cowboy Bebop: The Movie (Cowboy Bebop: Tengoku no Tobira) (2001)                              </td><td>Action|Animation|Sci-Fi|Thriller      </td></tr>\\n<tr><td style=\"text-align: right;\">     3.8</td><td style=\"text-align: right;\">     98809</td><td style=\"text-align: right;\">         3.8</td><td>Hobbit: An Unexpected Journey, The (2012)                                                     </td><td>Adventure|Fantasy                     </td></tr>\\n<tr><td style=\"text-align: right;\">     3.8</td><td style=\"text-align: right;\">      4896</td><td style=\"text-align: right;\">         3.8</td><td>Harry Potter and the Sorcerer&#x27;s Stone (a.k.a. Harry Potter and the Philosopher&#x27;s Stone) (2001)</td><td>Adventure|Children|Fantasy            </td></tr>\\n<tr><td style=\"text-align: right;\">     3.8</td><td style=\"text-align: right;\">     88125</td><td style=\"text-align: right;\">         3.9</td><td>Harry Potter and the Deathly Hallows: Part 2 (2011)                                           </td><td>Action|Adventure|Drama|Fantasy|Mystery</td></tr>\\n<tr><td style=\"text-align: right;\">     3.8</td><td style=\"text-align: right;\">     54001</td><td style=\"text-align: right;\">         3.9</td><td>Harry Potter and the Order of the Phoenix (2007)                                              </td><td>Adventure|Drama|Fantasy               </td></tr>\\n<tr><td style=\"text-align: right;\">     3.7</td><td style=\"text-align: right;\">    106489</td><td style=\"text-align: right;\">         3.6</td><td>Hobbit: The Desolation of Smaug, The (2013)                                                   </td><td>Adventure|Fantasy                     </td></tr>\\n<tr><td style=\"text-align: right;\">     3.7</td><td style=\"text-align: right;\">      8368</td><td style=\"text-align: right;\">         3.9</td><td>Harry Potter and the Prisoner of Azkaban (2004)                                               </td><td>Adventure|Fantasy                     </td></tr>\\n<tr><td style=\"text-align: right;\">     3.7</td><td style=\"text-align: right;\">      5952</td><td style=\"text-align: right;\">         4  </td><td>Lord of the Rings: The Two Towers, The (2002)                                                 </td><td>Adventure|Fantasy                     </td></tr>\\n<tr><td style=\"text-align: right;\">     3.7</td><td style=\"text-align: right;\">     90866</td><td style=\"text-align: right;\">         3.8</td><td>Hugo (2011)                                                                                   </td><td>Children|Drama|Mystery                </td></tr>\\n</tbody>\\n</table>'"
      ]
     },
     "execution_count": 39,
     "metadata": {},
     "output_type": "execute_result"
    }
   ],
   "source": [
    "#Replicate user vector to match movie number \n",
    "user_vecs = gen_user_vecs(user_vec, len(item_vecs))\n",
    "\n",
    "# Scale user and item vectors\n",
    "scaled_user_vec = Userscaler.transform(user_vecs)\n",
    "scaled_item_vec = Itemscaler.transform(item_vecs)\n",
    "\n",
    "# Predict\n",
    "y_pred = model.predict([scaled_user_vec[:, u_startcols:], scaled_item_vec[:, i_startcols:]])\n",
    "\n",
    "# Unscale prediction\n",
    "y_pred_unscaled = Targetscaler.inverse_transform(y_pred)\n",
    "\n",
    "# Sort predictions in descending order\n",
    "sorted_index = np.argsort(-y_pred, axis = 0).reshape(-1).tolist()\n",
    "sorted_y_pred_unscaled = y_pred_unscaled[sorted_index]\n",
    "sorted_items = item_vecs[sorted_index]\n",
    "\n",
    "print_pred_movies(sorted_y_pred_unscaled, sorted_items, movie_dict, maxcount = 10)"
   ]
  },
  {
   "cell_type": "code",
   "execution_count": 40,
   "metadata": {},
   "outputs": [
    {
     "name": "stdout",
     "output_type": "stream",
     "text": [
      "27/27 [==============================] - 0s 5ms/step\n"
     ]
    },
    {
     "data": {
      "text/html": [
       "<table>\n",
       "<thead>\n",
       "<tr><th style=\"text-align: right;\">  y_pred</th><th style=\"text-align: right;\">  y</th><th style=\"text-align: right;\">  user</th><th>avg user genre           </th><th style=\"text-align: right;\">  avg movie rating</th><th style=\"text-align: right;\">  movie id</th><th>title                          </th><th>genres                                    </th></tr>\n",
       "</thead>\n",
       "<tbody>\n",
       "<tr><td style=\"text-align: right;\">     4.5</td><td style=\"text-align: right;\">5.0</td><td style=\"text-align: right;\">     2</td><td>[4.0]                    </td><td style=\"text-align: right;\">               4.3</td><td style=\"text-align: right;\">     80906</td><td>Inside Job (2010)              </td><td>Documentary                               </td></tr>\n",
       "<tr><td style=\"text-align: right;\">     4.2</td><td style=\"text-align: right;\">4.0</td><td style=\"text-align: right;\">     2</td><td>[4.0,4.1,4.0,4.0,3.9,3.9]</td><td style=\"text-align: right;\">               4.1</td><td style=\"text-align: right;\">     79132</td><td>Inception (2010)               </td><td>Action|Crime|Drama|Mystery|Sci-Fi|Thriller</td></tr>\n",
       "<tr><td style=\"text-align: right;\">     4.1</td><td style=\"text-align: right;\">4.0</td><td style=\"text-align: right;\">     2</td><td>[4.0,4.1,3.9]            </td><td style=\"text-align: right;\">               4.0</td><td style=\"text-align: right;\">      6874</td><td>Kill Bill: Vol. 1 (2003)       </td><td>Action|Crime|Thriller                     </td></tr>\n",
       "<tr><td style=\"text-align: right;\">     4.1</td><td style=\"text-align: right;\">3.5</td><td style=\"text-align: right;\">     2</td><td>[4.0,3.9,3.9]            </td><td style=\"text-align: right;\">               3.9</td><td style=\"text-align: right;\">    115713</td><td>Ex Machina (2015)              </td><td>Drama|Sci-Fi|Thriller                     </td></tr>\n",
       "<tr><td style=\"text-align: right;\">     4.0</td><td style=\"text-align: right;\">5.0</td><td style=\"text-align: right;\">     2</td><td>[4.0,4.1,4.0]            </td><td style=\"text-align: right;\">               3.9</td><td style=\"text-align: right;\">    106782</td><td>Wolf of Wall Street, The (2013)</td><td>Comedy|Crime|Drama                        </td></tr>\n",
       "<tr><td style=\"text-align: right;\">     4.0</td><td style=\"text-align: right;\">4.0</td><td style=\"text-align: right;\">     2</td><td>[4.1,4.0,3.9]            </td><td style=\"text-align: right;\">               4.3</td><td style=\"text-align: right;\">     48516</td><td>Departed, The (2006)           </td><td>Crime|Drama|Thriller                      </td></tr>\n",
       "<tr><td style=\"text-align: right;\">     4.0</td><td style=\"text-align: right;\">4.5</td><td style=\"text-align: right;\">     2</td><td>[4.1,4.0,3.9]            </td><td style=\"text-align: right;\">               4.0</td><td style=\"text-align: right;\">     80489</td><td>Town, The (2010)               </td><td>Crime|Drama|Thriller                      </td></tr>\n",
       "<tr><td style=\"text-align: right;\">     4.0</td><td style=\"text-align: right;\">3.5</td><td style=\"text-align: right;\">     2</td><td>[4.0,4.2,4.1]            </td><td style=\"text-align: right;\">               4.0</td><td style=\"text-align: right;\">     91529</td><td>Dark Knight Rises, The (2012)  </td><td>Action|Adventure|Crime                    </td></tr>\n",
       "<tr><td style=\"text-align: right;\">     3.9</td><td style=\"text-align: right;\">4.5</td><td style=\"text-align: right;\">     2</td><td>[4.0,4.1,4.0]            </td><td style=\"text-align: right;\">               4.2</td><td style=\"text-align: right;\">     58559</td><td>Dark Knight, The (2008)        </td><td>Action|Crime|Drama                        </td></tr>\n",
       "<tr><td style=\"text-align: right;\">     3.9</td><td style=\"text-align: right;\">3.5</td><td style=\"text-align: right;\">     2</td><td>[4.0,4.0]                </td><td style=\"text-align: right;\">               3.9</td><td style=\"text-align: right;\">     99114</td><td>Django Unchained (2012)        </td><td>Action|Drama                              </td></tr>\n",
       "</tbody>\n",
       "</table>"
      ],
      "text/plain": [
       "'<table>\\n<thead>\\n<tr><th style=\"text-align: right;\">  y_pred</th><th style=\"text-align: right;\">  y</th><th style=\"text-align: right;\">  user</th><th>avg user genre           </th><th style=\"text-align: right;\">  avg movie rating</th><th style=\"text-align: right;\">  movie id</th><th>title                          </th><th>genres                                    </th></tr>\\n</thead>\\n<tbody>\\n<tr><td style=\"text-align: right;\">     4.5</td><td style=\"text-align: right;\">5.0</td><td style=\"text-align: right;\">     2</td><td>[4.0]                    </td><td style=\"text-align: right;\">               4.3</td><td style=\"text-align: right;\">     80906</td><td>Inside Job (2010)              </td><td>Documentary                               </td></tr>\\n<tr><td style=\"text-align: right;\">     4.2</td><td style=\"text-align: right;\">4.0</td><td style=\"text-align: right;\">     2</td><td>[4.0,4.1,4.0,4.0,3.9,3.9]</td><td style=\"text-align: right;\">               4.1</td><td style=\"text-align: right;\">     79132</td><td>Inception (2010)               </td><td>Action|Crime|Drama|Mystery|Sci-Fi|Thriller</td></tr>\\n<tr><td style=\"text-align: right;\">     4.1</td><td style=\"text-align: right;\">4.0</td><td style=\"text-align: right;\">     2</td><td>[4.0,4.1,3.9]            </td><td style=\"text-align: right;\">               4.0</td><td style=\"text-align: right;\">      6874</td><td>Kill Bill: Vol. 1 (2003)       </td><td>Action|Crime|Thriller                     </td></tr>\\n<tr><td style=\"text-align: right;\">     4.1</td><td style=\"text-align: right;\">3.5</td><td style=\"text-align: right;\">     2</td><td>[4.0,3.9,3.9]            </td><td style=\"text-align: right;\">               3.9</td><td style=\"text-align: right;\">    115713</td><td>Ex Machina (2015)              </td><td>Drama|Sci-Fi|Thriller                     </td></tr>\\n<tr><td style=\"text-align: right;\">     4.0</td><td style=\"text-align: right;\">5.0</td><td style=\"text-align: right;\">     2</td><td>[4.0,4.1,4.0]            </td><td style=\"text-align: right;\">               3.9</td><td style=\"text-align: right;\">    106782</td><td>Wolf of Wall Street, The (2013)</td><td>Comedy|Crime|Drama                        </td></tr>\\n<tr><td style=\"text-align: right;\">     4.0</td><td style=\"text-align: right;\">4.0</td><td style=\"text-align: right;\">     2</td><td>[4.1,4.0,3.9]            </td><td style=\"text-align: right;\">               4.3</td><td style=\"text-align: right;\">     48516</td><td>Departed, The (2006)           </td><td>Crime|Drama|Thriller                      </td></tr>\\n<tr><td style=\"text-align: right;\">     4.0</td><td style=\"text-align: right;\">4.5</td><td style=\"text-align: right;\">     2</td><td>[4.1,4.0,3.9]            </td><td style=\"text-align: right;\">               4.0</td><td style=\"text-align: right;\">     80489</td><td>Town, The (2010)               </td><td>Crime|Drama|Thriller                      </td></tr>\\n<tr><td style=\"text-align: right;\">     4.0</td><td style=\"text-align: right;\">3.5</td><td style=\"text-align: right;\">     2</td><td>[4.0,4.2,4.1]            </td><td style=\"text-align: right;\">               4.0</td><td style=\"text-align: right;\">     91529</td><td>Dark Knight Rises, The (2012)  </td><td>Action|Adventure|Crime                    </td></tr>\\n<tr><td style=\"text-align: right;\">     3.9</td><td style=\"text-align: right;\">4.5</td><td style=\"text-align: right;\">     2</td><td>[4.0,4.1,4.0]            </td><td style=\"text-align: right;\">               4.2</td><td style=\"text-align: right;\">     58559</td><td>Dark Knight, The (2008)        </td><td>Action|Crime|Drama                        </td></tr>\\n<tr><td style=\"text-align: right;\">     3.9</td><td style=\"text-align: right;\">3.5</td><td style=\"text-align: right;\">     2</td><td>[4.0,4.0]                </td><td style=\"text-align: right;\">               3.9</td><td style=\"text-align: right;\">     99114</td><td>Django Unchained (2012)        </td><td>Action|Drama                              </td></tr>\\n</tbody>\\n</table>'"
      ]
     },
     "execution_count": 40,
     "metadata": {},
     "output_type": "execute_result"
    }
   ],
   "source": [
    "#Predicting for user with id 2\n",
    "user_id = 2\n",
    "\n",
    "# Form custom user vector\n",
    "user_vecs, y_vecs = get_user_vecs(user_id, unscaled_user_train, item_vecs, user_to_genre)\n",
    "\n",
    "# Scale movie and item vectors\n",
    "scaled_user_vec = Userscaler.transform(user_vecs)\n",
    "scaled_item_vec = Itemscaler.transform(item_vecs)\n",
    "\n",
    "# Make predictions\n",
    "y_pred = model.predict([scaled_user_vec[:, u_startcols:], scaled_item_vec[:, i_startcols:]])\n",
    "\n",
    "# Unscale predictions\n",
    "y_pred_unscaled = Targetscaler.inverse_transform(y_pred)\n",
    "\n",
    "# Sort results\n",
    "\n",
    "# Negate to get largest rating first and display unscaled vectors\n",
    "sorted_index = np.argsort(-y_pred, axis = 0).reshape(-1).tolist() \n",
    "sorted_y_pred_unscaled = y_pred_unscaled[sorted_index]\n",
    "sorted_items = item_vecs[sorted_index]\n",
    "sorted_user = user_vecs[sorted_index]\n",
    "sorted_y = y_vecs[sorted_index]\n",
    "\n",
    "# Display sorted rating for movies rated by the user\n",
    "print_existing_user(sorted_y_pred_unscaled, sorted_y.reshape(-1, 1), sorted_user, sorted_items, i_vecs, u_vecs, movie_dict, maxcount = 10)"
   ]
  },
  {
   "cell_type": "code",
   "execution_count": 41,
   "metadata": {},
   "outputs": [],
   "source": [
    "# Compute the square distance between vectors, to compute similarities\n",
    "\n",
    "def sqr_dist(a, b):\n",
    "    d = np.sum(np.square(b - a))\n",
    "    return d"
   ]
  },
  {
   "cell_type": "code",
   "execution_count": 42,
   "metadata": {},
   "outputs": [
    {
     "name": "stdout",
     "output_type": "stream",
     "text": [
      "Squared distance between a1 and b1: 0.000\n"
     ]
    }
   ],
   "source": [
    "# Display square distance between sample vectors\n",
    "\n",
    "a1 = np.array([1.0, 2.0, 3.0])\n",
    "a2 = np.array([1.1, 2.1, 3.1])\n",
    "a3 = np.array([0, 1, 0])\n",
    "b1 = np.array([1.0, 2.0, 3.0])\n",
    "b2 = np.array([1.0, 2.0, 3.0])\n",
    "b3 = np.array([1, 0, 0])\n",
    "\n",
    "print(f\"Squared distance between a1 and b1: {sqr_dist(a1, b1):0.3f}\")"
   ]
  },
  {
   "cell_type": "code",
   "execution_count": 43,
   "metadata": {},
   "outputs": [
    {
     "name": "stdout",
     "output_type": "stream",
     "text": [
      "Model: \"model_1\"\n",
      "_________________________________________________________________\n",
      " Layer (type)                Output Shape              Param #   \n",
      "=================================================================\n",
      " input_3 (InputLayer)        [(None, 16)]              0         \n",
      "                                                                 \n",
      " sequential_1 (Sequential)   (None, 32)                308896    \n",
      "                                                                 \n",
      " tf.math.l2_normalize_2 (TF  (None, 32)                0         \n",
      " OpLambda)                                                       \n",
      "                                                                 \n",
      "=================================================================\n",
      "Total params: 308896 (1.18 MB)\n",
      "Trainable params: 306592 (1.17 MB)\n",
      "Non-trainable params: 2304 (9.00 KB)\n",
      "_________________________________________________________________\n"
     ]
    }
   ],
   "source": [
    "# Generate movie vectors from already trained model\n",
    "\n",
    "input_movie_item = layers.Input(shape = (item_features_num))\n",
    "movie_vec = item_Net(input_movie_item)\n",
    "movie_vec = tf.linalg.l2_normalize(movie_vec, axis = 1)\n",
    "new_model = keras.Model(input_movie_item, movie_vec)\n",
    "new_model.summary()"
   ]
  },
  {
   "cell_type": "code",
   "execution_count": 44,
   "metadata": {},
   "outputs": [
    {
     "name": "stdout",
     "output_type": "stream",
     "text": [
      "27/27 [==============================] - 1s 3ms/step\n",
      "Size of predicted movie feature vectors: (847, 32)\n"
     ]
    }
   ],
   "source": [
    "# Scale and make predictions\n",
    "\n",
    "scaled_item_vec = Itemscaler.transform(item_vecs)\n",
    "pred_movie_vec = new_model.predict(scaled_item_vec[:, i_startcols:])\n",
    "print(f\"Size of predicted movie feature vectors: {pred_movie_vec.shape}\")"
   ]
  },
  {
   "cell_type": "code",
   "execution_count": 45,
   "metadata": {},
   "outputs": [
    {
     "data": {
      "text/html": [
       "<table>\n",
       "<thead>\n",
       "<tr><th>Movie 1                             </th><th>Genres                          </th><th>Movie 2                               </th><th>Genres                                   </th></tr>\n",
       "</thead>\n",
       "<tbody>\n",
       "<tr><td>Save the Last Dance (2001)          </td><td>Drama|Romance                   </td><td>Mona Lisa Smile (2003)                </td><td>Drama|Romance                            </td></tr>\n",
       "<tr><td>Wedding Planner, The (2001)         </td><td>Comedy|Romance                  </td><td>Sweetest Thing, The (2002)            </td><td>Comedy|Romance                           </td></tr>\n",
       "<tr><td>Hannibal (2001)                     </td><td>Horror|Thriller                 </td><td>Final Destination 2 (2003)            </td><td>Horror|Thriller                          </td></tr>\n",
       "<tr><td>Saving Silverman (Evil Woman) (2001)</td><td>Comedy|Romance                  </td><td>Wedding Planner, The (2001)           </td><td>Comedy|Romance                           </td></tr>\n",
       "<tr><td>Down to Earth (2001)                </td><td>Comedy|Fantasy|Romance          </td><td>Not Another Teen Movie (2001)         </td><td>Comedy                                   </td></tr>\n",
       "<tr><td>Mexican, The (2001)                 </td><td>Action|Comedy                   </td><td>Rush Hour 2 (2001)                    </td><td>Action|Comedy                            </td></tr>\n",
       "<tr><td>15 Minutes (2001)                   </td><td>Thriller                        </td><td>Panic Room (2002)                     </td><td>Thriller                                 </td></tr>\n",
       "<tr><td>Enemy at the Gates (2001)           </td><td>Drama                           </td><td>Gangs of New York (2002)              </td><td>Crime|Drama                              </td></tr>\n",
       "<tr><td>Heartbreakers (2001)                </td><td>Comedy|Crime|Romance            </td><td>Crocodile Dundee in Los Angeles (2001)</td><td>Comedy|Drama                             </td></tr>\n",
       "<tr><td>Spy Kids (2001)                     </td><td>Action|Adventure|Children|Comedy</td><td>Scooby-Doo (2002)                     </td><td>Adventure|Children|Comedy|Fantasy|Mystery</td></tr>\n",
       "</tbody>\n",
       "</table>"
      ],
      "text/plain": [
       "'<table>\\n<thead>\\n<tr><th>Movie 1                             </th><th>Genres                          </th><th>Movie 2                               </th><th>Genres                                   </th></tr>\\n</thead>\\n<tbody>\\n<tr><td>Save the Last Dance (2001)          </td><td>Drama|Romance                   </td><td>Mona Lisa Smile (2003)                </td><td>Drama|Romance                            </td></tr>\\n<tr><td>Wedding Planner, The (2001)         </td><td>Comedy|Romance                  </td><td>Sweetest Thing, The (2002)            </td><td>Comedy|Romance                           </td></tr>\\n<tr><td>Hannibal (2001)                     </td><td>Horror|Thriller                 </td><td>Final Destination 2 (2003)            </td><td>Horror|Thriller                          </td></tr>\\n<tr><td>Saving Silverman (Evil Woman) (2001)</td><td>Comedy|Romance                  </td><td>Wedding Planner, The (2001)           </td><td>Comedy|Romance                           </td></tr>\\n<tr><td>Down to Earth (2001)                </td><td>Comedy|Fantasy|Romance          </td><td>Not Another Teen Movie (2001)         </td><td>Comedy                                   </td></tr>\\n<tr><td>Mexican, The (2001)                 </td><td>Action|Comedy                   </td><td>Rush Hour 2 (2001)                    </td><td>Action|Comedy                            </td></tr>\\n<tr><td>15 Minutes (2001)                   </td><td>Thriller                        </td><td>Panic Room (2002)                     </td><td>Thriller                                 </td></tr>\\n<tr><td>Enemy at the Gates (2001)           </td><td>Drama                           </td><td>Gangs of New York (2002)              </td><td>Crime|Drama                              </td></tr>\\n<tr><td>Heartbreakers (2001)                </td><td>Comedy|Crime|Romance            </td><td>Crocodile Dundee in Los Angeles (2001)</td><td>Comedy|Drama                             </td></tr>\\n<tr><td>Spy Kids (2001)                     </td><td>Action|Adventure|Children|Comedy</td><td>Scooby-Doo (2002)                     </td><td>Adventure|Children|Comedy|Fantasy|Mystery</td></tr>\\n</tbody>\\n</table>'"
      ]
     },
     "execution_count": 45,
     "metadata": {},
     "output_type": "execute_result"
    }
   ],
   "source": [
    "# Compute minimum distance between vectors to find similar movies\n",
    "\n",
    "count = 10\n",
    "dim = len(pred_movie_vec)\n",
    "dist = np.zeros((dim, dim))\n",
    "\n",
    "for i in range(dim):\n",
    "    for j in range(dim):\n",
    "        dist[i, j] = sqr_dist(pred_movie_vec[i, :], pred_movie_vec[j, :])\n",
    "\n",
    "# Use masked arrays to avoid selecting the same movie        \n",
    "min_dist = ma.masked_array(dist, mask = np.identity(dist.shape[0]))\n",
    "\n",
    "disp = [[\"Movie 1\", \"Genres\", \"Movie 2\", \"Genres\"]]\n",
    "for i in range(count):\n",
    "    min_indx = np.argmin(min_dist[i])\n",
    "    movie1_id = int(item_vecs[i, 0])\n",
    "    movie2_id = int(item_vecs[min_indx, 0])\n",
    "    disp.append(\n",
    "        [movie_dict[movie1_id]['title'], movie_dict[movie1_id][\"genres\"],\n",
    "         movie_dict[movie2_id]['title'], movie_dict[movie2_id]['genres']]\n",
    "    )\n",
    "    \n",
    "table = tabulate.tabulate(disp, tablefmt = 'html', headers = \"firstrow\")\n",
    "table"
   ]
  },
  {
   "cell_type": "code",
   "execution_count": null,
   "metadata": {},
   "outputs": [],
   "source": []
  }
 ],
 "metadata": {
  "kernelspec": {
   "display_name": "Python 3",
   "language": "python",
   "name": "python3"
  },
  "language_info": {
   "codemirror_mode": {
    "name": "ipython",
    "version": 3
   },
   "file_extension": ".py",
   "mimetype": "text/x-python",
   "name": "python",
   "nbconvert_exporter": "python",
   "pygments_lexer": "ipython3",
   "version": "3.11.5"
  },
  "orig_nbformat": 4
 },
 "nbformat": 4,
 "nbformat_minor": 2
}
